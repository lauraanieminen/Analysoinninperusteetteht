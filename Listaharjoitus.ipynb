{
 "cells": [
  {
   "cell_type": "code",
   "execution_count": 4,
   "metadata": {},
   "outputs": [
    {
     "name": "stdout",
     "output_type": "stream",
     "text": [
      "['Table', 'Chair', 'Shelf', 'Sofa', 'Desk']\n",
      "['Table', 'Chair']\n",
      "Table Chair\n",
      "Sofa\n",
      "[5, 4, 6, 5, 4]\n",
      "Sum of values: 24\n",
      "Highest value: 6\n",
      "Randomly picked numbers: [5, 20, 3, 8, 10]\n"
     ]
    }
   ],
   "source": [
    "# Harjoitus 1\n",
    "\n",
    "furniture = [\"Table\", \"Chair\", \"Shelf\", \"Sofa\", \"Desk\"]\n",
    "print(furniture)\n",
    "print(furniture[:2])\n",
    "\n",
    "\n",
    "print(furniture[0], furniture[1])\n",
    "\n",
    "for item in furniture:\n",
    "    if item == \"Sofa\":\n",
    "        print(\"Sofa\")\n",
    "        break \n",
    "\n",
    "# Harjoitus 2\n",
    "\n",
    "thrownDiceNumbers = []\n",
    "\n",
    "import random\n",
    "\n",
    "for _ in range(5):\n",
    "    thrownDiceNumbers.append(random.randint(1, 6,))\n",
    "\n",
    "print(thrownDiceNumbers)\n",
    "\n",
    "total_sum = sum(thrownDiceNumbers)\n",
    "print(\"Sum of values:\", total_sum)\n",
    "\n",
    "print(\"Highest value:\", max(thrownDiceNumbers))\n",
    "\n",
    "\n",
    "# Harjoitus 3 EXTRA\n",
    "\n",
    "import random\n",
    "\n",
    "random_numbers = random.sample(range(1, 21), 5)\n",
    "print(\"Randomly picked numbers:\", random_numbers)"
   ]
  }
 ],
 "metadata": {
  "kernelspec": {
   "display_name": "Python 3",
   "language": "python",
   "name": "python3"
  },
  "language_info": {
   "codemirror_mode": {
    "name": "ipython",
    "version": 3
   },
   "file_extension": ".py",
   "mimetype": "text/x-python",
   "name": "python",
   "nbconvert_exporter": "python",
   "pygments_lexer": "ipython3",
   "version": "3.13.0"
  }
 },
 "nbformat": 4,
 "nbformat_minor": 2
}
