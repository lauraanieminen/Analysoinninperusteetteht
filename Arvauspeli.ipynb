{
 "cells": [
  {
   "cell_type": "code",
   "execution_count": 6,
   "metadata": {},
   "outputs": [
    {
     "name": "stdout",
     "output_type": "stream",
     "text": [
      "Try again!\n",
      "Try again!\n",
      "Try again!\n",
      "Congratulations!\n",
      "Goodbye!\n"
     ]
    }
   ],
   "source": [
    "correct_name = \"Laura\"\n",
    "\n",
    "\n",
    "while True:\n",
    "    guess = input(\"Guess the name: \")\n",
    "    \n",
    "  \n",
    "    if guess.strip().lower() == correct_name.lower():\n",
    "        print(\"Congratulations!\")\n",
    "        break  \n",
    "    else:\n",
    "        print(\"Try again!\")  \n",
    "\n",
    "# Extra\n",
    "\n",
    "correct_name = \"Laura\"\n",
    "guess_count = 0  \n",
    "\n",
    "\n",
    "while True:\n",
    "    guess = input(\"Guess the name: \")\n",
    "    guess_count += 1  \n",
    "\n",
    "    if guess.strip().lower() == correct_name.lower():\n",
    "        print(\"Congratulations!\")\n",
    "        print(f\"You guessed the correct name in {guess_count} attempts.\")\n",
    "        break  \n",
    "    else:\n",
    "        \n",
    "        quit_choice = input(\"Incorrect. Do you want to quit? (yes/no): \")\n",
    "        if quit_choice.strip().lower() == 'yes':\n",
    "            print(\"Goodbye!\")\n",
    "            break  \n",
    "        else:\n",
    "            print(\"Try again!\")  "
   ]
  }
 ],
 "metadata": {
  "kernelspec": {
   "display_name": "Python 3",
   "language": "python",
   "name": "python3"
  },
  "language_info": {
   "codemirror_mode": {
    "name": "ipython",
    "version": 3
   },
   "file_extension": ".py",
   "mimetype": "text/x-python",
   "name": "python",
   "nbconvert_exporter": "python",
   "pygments_lexer": "ipython3",
   "version": "3.13.0"
  }
 },
 "nbformat": 4,
 "nbformat_minor": 2
}
