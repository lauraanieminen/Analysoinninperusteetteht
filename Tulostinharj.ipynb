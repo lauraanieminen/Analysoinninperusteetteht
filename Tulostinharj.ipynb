


{
 "cells": [
  {
   "cell_type": "code",
   "execution_count": null,
   "metadata": {},
   "outputs": [],
   "source": [
    "print(\"Printer App\")\n",
    "print(\"This app is made by: Laura\")\n",
    "creator = \"Laura\"\n",
    "print(\"The creator is:\", creator)\n",
    "number1 = 5\n",
    "number2 = 10\n",
    "\n",
    "#print(number1)\n",
    "print(\"the value of the number is 5\")\n",
    "print(\"The value of number2 is 10\")\n",
    "multiplication = 0\n",
    "multiplication = number1 * number2\n",
    "print(\"5 * 10 = 50\")\n",
    "addition = number1 + number2\n",
    "subtraction = number1 - number2\n",
    "multiplication = number1 * number2\n",
    "division = number1 / number2\n",
    "print(\"Addition result:\", addition)\n",
    "print(\"Subtraction result:\", subtraction)\n",
    "print(\"Multiplication result:\", multiplication)\n",
    "print(\"Division result:\", division)"
   ]
  }
 ],
 "metadata": {
  "language_info": {
   "name": "python"
  }
 },
 "nbformat": 4,
 "nbformat_minor": 2
}
