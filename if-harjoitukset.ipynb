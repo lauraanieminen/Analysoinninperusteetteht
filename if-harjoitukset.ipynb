{
 "cells": [
  {
   "cell_type": "code",
   "execution_count": 5,
   "metadata": {},
   "outputs": [
    {
     "name": "stdout",
     "output_type": "stream",
     "text": [
      "number1 and number2 are not equal\n",
      "number1 and number2 are equal OR number2 and number3 are equal\n",
      "number1 and number2 are equal\n",
      "name1 and name2 are not equal\n"
     ]
    }
   ],
   "source": [
    "number1 = 10\n",
    "number2 = 15\n",
    "\n",
    "if number1 == number2:\n",
    "    print(\"number1 and number2 are equal\")\n",
    "\n",
    "if number1 > number2:\n",
    "    print(\"number1 is greater than number2\")\n",
    "\n",
    "if number1 >= number2:\n",
    "    print(\"number1 is greater than or equal to number2\")\n",
    "\n",
    "if number1 != number2:\n",
    "    print(\"number1 and number2 are not equal\")\n",
    "\n",
    "number1 = 8\n",
    "number2 = 8\n",
    "number3 = 12\n",
    "\n",
    "if number1 == number2 == number3:\n",
    "    print(\"All numbers are equal\")\n",
    "\n",
    "if number1 == number2 or number2 == number3:\n",
    "    print(\"number1 and number2 are equal OR number2 and number3 are equal\")\n",
    "\n",
    "if number1 > number2 and number1 > number3:\n",
    "    print(\"number1 is greater than both number2 and number3\")\n",
    "\n",
    "if number1 > number2:\n",
    "    print(\"number1 is greater than number2\")\n",
    "elif number2 > number3:\n",
    "    print(\"number2 is greater than number3\")\n",
    "\n",
    "if number1 == number2:\n",
    "    print(\"number1 and number2 are equal\")\n",
    "elif number1 == number3:\n",
    "    print(\"number1 and number3 are equal\")\n",
    "\n",
    "name1 = \"Laura\"\n",
    "name2 = \"Ulla\"\n",
    "name3 = \"Ursula\"\n",
    "\n",
    "if name1 == name2:\n",
    "    print(\"name1 and name2 are equal\")\n",
    "\n",
    "if name1 != name2:\n",
    "    print(\"name1 and name2 are not equal\")\n",
    "\n",
    "if name1 == name2:\n",
    "    print(\"name1 and name2 are equal\")\n",
    "elif name1 == name3:\n",
    "    print(\"name1 and name3 are equal\")\n"
   ]
  }
 ],
 "metadata": {
  "kernelspec": {
   "display_name": "Python 3",
   "language": "python",
   "name": "python3"
  },
  "language_info": {
   "codemirror_mode": {
    "name": "ipython",
    "version": 3
   },
   "file_extension": ".py",
   "mimetype": "text/x-python",
   "name": "python",
   "nbconvert_exporter": "python",
   "pygments_lexer": "ipython3",
   "version": "3.13.0"
  }
 },
 "nbformat": 4,
 "nbformat_minor": 2
}
